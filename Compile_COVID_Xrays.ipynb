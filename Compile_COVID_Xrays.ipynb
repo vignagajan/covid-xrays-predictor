{
  "nbformat": 4,
  "nbformat_minor": 0,
  "metadata": {
    "colab": {
      "name": "Compile COVID Xrays.ipynb",
      "provenance": [],
      "toc_visible": true,
      "authorship_tag": "ABX9TyPdRIpAxZJ3fvgrspyD7Dv1",
      "include_colab_link": true
    },
    "kernelspec": {
      "name": "python3",
      "display_name": "Python 3"
    }
  },
  "cells": [
    {
      "cell_type": "markdown",
      "metadata": {
        "id": "view-in-github",
        "colab_type": "text"
      },
      "source": [
        "<a href=\"https://colab.research.google.com/github/vignagajan/covid-xrays-predictor/blob/master/Compile_COVID_Xrays.ipynb\" target=\"_parent\"><img src=\"https://colab.research.google.com/assets/colab-badge.svg\" alt=\"Open In Colab\"/></a>"
      ]
    },
    {
      "cell_type": "code",
      "metadata": {
        "id": "Jw9TZWfjfEak",
        "colab_type": "code",
        "colab": {
          "base_uri": "https://localhost:8080/",
          "height": 126
        },
        "outputId": "79ad61a2-64a5-48b6-d557-9d1db46676b0"
      },
      "source": [
        "# Get 'kaggle-chestxrays-dataset' from repo\n",
        "!git clone https://github.com/vignagajan/covid-xrays-predictor\n",
        "%cd covid-xrays-predictor"
      ],
      "execution_count": 1,
      "outputs": [
        {
          "output_type": "stream",
          "text": [
            "Cloning into 'covid-xrays-predictor'...\n",
            "remote: Enumerating objects: 5840, done.\u001b[K\n",
            "remote: Total 5840 (delta 0), reused 0 (delta 0), pack-reused 5840\u001b[K\n",
            "Receiving objects: 100% (5840/5840), 1.13 GiB | 15.71 MiB/s, done.\n",
            "Checking out files: 100% (5858/5858), done.\n",
            "/content/covid-xrays-predictor\n"
          ],
          "name": "stdout"
        }
      ]
    },
    {
      "cell_type": "markdown",
      "metadata": {
        "id": "e4-ccSVAuoJ_",
        "colab_type": "text"
      },
      "source": [
        "## 1. Have a look at data obtained"
      ]
    },
    {
      "cell_type": "code",
      "metadata": {
        "id": "4Ok6dKVvvtbE",
        "colab_type": "code",
        "colab": {
          "base_uri": "https://localhost:8080/",
          "height": 163
        },
        "outputId": "80459869-501f-4f70-a504-72a9fc49c2f0"
      },
      "source": [
        "# Fetch relavent repository\n",
        "!git clone 'https://github.com/ieee8023/covid-chestxray-dataset'"
      ],
      "execution_count": 2,
      "outputs": [
        {
          "output_type": "stream",
          "text": [
            "Cloning into 'covid-chestxray-dataset'...\n",
            "remote: Enumerating objects: 71, done.\u001b[K\n",
            "remote: Counting objects: 100% (71/71), done.\u001b[K\n",
            "remote: Compressing objects: 100% (54/54), done.\u001b[K\n",
            "remote: Total 3204 (delta 30), reused 49 (delta 17), pack-reused 3133\u001b[K\n",
            "Receiving objects: 100% (3204/3204), 582.58 MiB | 15.38 MiB/s, done.\n",
            "Resolving deltas: 100% (1266/1266), done.\n",
            "Checking out files: 100% (991/991), done.\n"
          ],
          "name": "stdout"
        }
      ]
    },
    {
      "cell_type": "code",
      "metadata": {
        "id": "Oh9kxibCD0u8",
        "colab_type": "code",
        "colab": {
          "base_uri": "https://localhost:8080/",
          "height": 581
        },
        "outputId": "ae9b1134-f01e-4728-c90d-e9024f83149b"
      },
      "source": [
        "# Load metadata as data frame \n",
        "import pandas as pd\n",
        "\n",
        "df = pd.read_csv('covid-chestxray-dataset/metadata.csv')\n",
        "\n",
        "df.head()"
      ],
      "execution_count": 3,
      "outputs": [
        {
          "output_type": "execute_result",
          "data": {
            "text/html": [
              "<div>\n",
              "<style scoped>\n",
              "    .dataframe tbody tr th:only-of-type {\n",
              "        vertical-align: middle;\n",
              "    }\n",
              "\n",
              "    .dataframe tbody tr th {\n",
              "        vertical-align: top;\n",
              "    }\n",
              "\n",
              "    .dataframe thead th {\n",
              "        text-align: right;\n",
              "    }\n",
              "</style>\n",
              "<table border=\"1\" class=\"dataframe\">\n",
              "  <thead>\n",
              "    <tr style=\"text-align: right;\">\n",
              "      <th></th>\n",
              "      <th>patientid</th>\n",
              "      <th>offset</th>\n",
              "      <th>sex</th>\n",
              "      <th>age</th>\n",
              "      <th>finding</th>\n",
              "      <th>survival</th>\n",
              "      <th>intubated</th>\n",
              "      <th>intubation_present</th>\n",
              "      <th>went_icu</th>\n",
              "      <th>in_icu</th>\n",
              "      <th>needed_supplemental_O2</th>\n",
              "      <th>extubated</th>\n",
              "      <th>temperature</th>\n",
              "      <th>pO2_saturation</th>\n",
              "      <th>leukocyte_count</th>\n",
              "      <th>neutrophil_count</th>\n",
              "      <th>lymphocyte_count</th>\n",
              "      <th>view</th>\n",
              "      <th>modality</th>\n",
              "      <th>date</th>\n",
              "      <th>location</th>\n",
              "      <th>folder</th>\n",
              "      <th>filename</th>\n",
              "      <th>doi</th>\n",
              "      <th>url</th>\n",
              "      <th>license</th>\n",
              "      <th>clinical_notes</th>\n",
              "      <th>other_notes</th>\n",
              "      <th>Unnamed: 28</th>\n",
              "    </tr>\n",
              "  </thead>\n",
              "  <tbody>\n",
              "    <tr>\n",
              "      <th>0</th>\n",
              "      <td>2</td>\n",
              "      <td>0</td>\n",
              "      <td>M</td>\n",
              "      <td>65.0</td>\n",
              "      <td>COVID-19</td>\n",
              "      <td>Y</td>\n",
              "      <td>N</td>\n",
              "      <td>N</td>\n",
              "      <td>N</td>\n",
              "      <td>N</td>\n",
              "      <td>Y</td>\n",
              "      <td>NaN</td>\n",
              "      <td>NaN</td>\n",
              "      <td>NaN</td>\n",
              "      <td>NaN</td>\n",
              "      <td>NaN</td>\n",
              "      <td>NaN</td>\n",
              "      <td>PA</td>\n",
              "      <td>X-ray</td>\n",
              "      <td>January 22, 2020</td>\n",
              "      <td>Cho Ray Hospital, Ho Chi Minh City, Vietnam</td>\n",
              "      <td>images</td>\n",
              "      <td>auntminnie-a-2020_01_28_23_51_6665_2020_01_28_...</td>\n",
              "      <td>10.1056/nejmc2001272</td>\n",
              "      <td>https://www.nejm.org/doi/full/10.1056/NEJMc200...</td>\n",
              "      <td>NaN</td>\n",
              "      <td>On January 22, 2020, a 65-year-old man with a ...</td>\n",
              "      <td>NaN</td>\n",
              "      <td>NaN</td>\n",
              "    </tr>\n",
              "    <tr>\n",
              "      <th>1</th>\n",
              "      <td>2</td>\n",
              "      <td>3</td>\n",
              "      <td>M</td>\n",
              "      <td>65.0</td>\n",
              "      <td>COVID-19</td>\n",
              "      <td>Y</td>\n",
              "      <td>N</td>\n",
              "      <td>N</td>\n",
              "      <td>N</td>\n",
              "      <td>N</td>\n",
              "      <td>Y</td>\n",
              "      <td>NaN</td>\n",
              "      <td>NaN</td>\n",
              "      <td>NaN</td>\n",
              "      <td>NaN</td>\n",
              "      <td>NaN</td>\n",
              "      <td>NaN</td>\n",
              "      <td>PA</td>\n",
              "      <td>X-ray</td>\n",
              "      <td>January 25, 2020</td>\n",
              "      <td>Cho Ray Hospital, Ho Chi Minh City, Vietnam</td>\n",
              "      <td>images</td>\n",
              "      <td>auntminnie-b-2020_01_28_23_51_6665_2020_01_28_...</td>\n",
              "      <td>10.1056/nejmc2001272</td>\n",
              "      <td>https://www.nejm.org/doi/full/10.1056/NEJMc200...</td>\n",
              "      <td>NaN</td>\n",
              "      <td>On January 22, 2020, a 65-year-old man with a ...</td>\n",
              "      <td>NaN</td>\n",
              "      <td>NaN</td>\n",
              "    </tr>\n",
              "    <tr>\n",
              "      <th>2</th>\n",
              "      <td>2</td>\n",
              "      <td>5</td>\n",
              "      <td>M</td>\n",
              "      <td>65.0</td>\n",
              "      <td>COVID-19</td>\n",
              "      <td>Y</td>\n",
              "      <td>N</td>\n",
              "      <td>N</td>\n",
              "      <td>N</td>\n",
              "      <td>N</td>\n",
              "      <td>Y</td>\n",
              "      <td>NaN</td>\n",
              "      <td>NaN</td>\n",
              "      <td>NaN</td>\n",
              "      <td>NaN</td>\n",
              "      <td>NaN</td>\n",
              "      <td>NaN</td>\n",
              "      <td>PA</td>\n",
              "      <td>X-ray</td>\n",
              "      <td>January 27, 2020</td>\n",
              "      <td>Cho Ray Hospital, Ho Chi Minh City, Vietnam</td>\n",
              "      <td>images</td>\n",
              "      <td>auntminnie-c-2020_01_28_23_51_6665_2020_01_28_...</td>\n",
              "      <td>10.1056/nejmc2001272</td>\n",
              "      <td>https://www.nejm.org/doi/full/10.1056/NEJMc200...</td>\n",
              "      <td>NaN</td>\n",
              "      <td>On January 22, 2020, a 65-year-old man with a ...</td>\n",
              "      <td>NaN</td>\n",
              "      <td>NaN</td>\n",
              "    </tr>\n",
              "    <tr>\n",
              "      <th>3</th>\n",
              "      <td>2</td>\n",
              "      <td>6</td>\n",
              "      <td>M</td>\n",
              "      <td>65.0</td>\n",
              "      <td>COVID-19</td>\n",
              "      <td>Y</td>\n",
              "      <td>N</td>\n",
              "      <td>N</td>\n",
              "      <td>N</td>\n",
              "      <td>N</td>\n",
              "      <td>Y</td>\n",
              "      <td>NaN</td>\n",
              "      <td>NaN</td>\n",
              "      <td>NaN</td>\n",
              "      <td>NaN</td>\n",
              "      <td>NaN</td>\n",
              "      <td>NaN</td>\n",
              "      <td>PA</td>\n",
              "      <td>X-ray</td>\n",
              "      <td>January 28, 2020</td>\n",
              "      <td>Cho Ray Hospital, Ho Chi Minh City, Vietnam</td>\n",
              "      <td>images</td>\n",
              "      <td>auntminnie-d-2020_01_28_23_51_6665_2020_01_28_...</td>\n",
              "      <td>10.1056/nejmc2001272</td>\n",
              "      <td>https://www.nejm.org/doi/full/10.1056/NEJMc200...</td>\n",
              "      <td>NaN</td>\n",
              "      <td>On January 22, 2020, a 65-year-old man with a ...</td>\n",
              "      <td>NaN</td>\n",
              "      <td>NaN</td>\n",
              "    </tr>\n",
              "    <tr>\n",
              "      <th>4</th>\n",
              "      <td>4</td>\n",
              "      <td>0</td>\n",
              "      <td>F</td>\n",
              "      <td>52.0</td>\n",
              "      <td>COVID-19</td>\n",
              "      <td>NaN</td>\n",
              "      <td>N</td>\n",
              "      <td>N</td>\n",
              "      <td>N</td>\n",
              "      <td>N</td>\n",
              "      <td>N</td>\n",
              "      <td>NaN</td>\n",
              "      <td>NaN</td>\n",
              "      <td>NaN</td>\n",
              "      <td>NaN</td>\n",
              "      <td>NaN</td>\n",
              "      <td>NaN</td>\n",
              "      <td>PA</td>\n",
              "      <td>X-ray</td>\n",
              "      <td>January 25, 2020</td>\n",
              "      <td>Changhua Christian Hospital, Changhua City, Ta...</td>\n",
              "      <td>images</td>\n",
              "      <td>nejmc2001573_f1a.jpeg</td>\n",
              "      <td>10.1056/NEJMc2001573</td>\n",
              "      <td>https://www.nejm.org/doi/full/10.1056/NEJMc200...</td>\n",
              "      <td>NaN</td>\n",
              "      <td>diffuse infiltrates in the bilateral lower lungs</td>\n",
              "      <td>NaN</td>\n",
              "      <td>NaN</td>\n",
              "    </tr>\n",
              "  </tbody>\n",
              "</table>\n",
              "</div>"
            ],
            "text/plain": [
              "  patientid offset  ... other_notes  Unnamed: 28\n",
              "0         2      0  ...         NaN          NaN\n",
              "1         2      3  ...         NaN          NaN\n",
              "2         2      5  ...         NaN          NaN\n",
              "3         2      6  ...         NaN          NaN\n",
              "4         4      0  ...         NaN          NaN\n",
              "\n",
              "[5 rows x 29 columns]"
            ]
          },
          "metadata": {
            "tags": []
          },
          "execution_count": 3
        }
      ]
    },
    {
      "cell_type": "markdown",
      "metadata": {
        "id": "_YDMz2b8xBBI",
        "colab_type": "text"
      },
      "source": [
        "****\n",
        "\n",
        "You could observe that, the findings, filename and view are import features to extract COVID xray images from total images.\n",
        "\n",
        "\n",
        "\n",
        "*   findings - Type of diseases the patient got\n",
        "*   filename - Filename of the image\n",
        "*   view - The view of the xrays is taken (radiology terminology)\n",
        "\n",
        "From the dataframe, we have to extract filename with regarding to,\n",
        "\n",
        "finding == 'COVID-19\" and view == 'PA'.\n",
        "\n",
        "Reason for the view is, the kaggle dataset xrays are also in the same view.\n",
        "\n",
        "***\n",
        "\n",
        "\n",
        "\n"
      ]
    },
    {
      "cell_type": "markdown",
      "metadata": {
        "id": "Tqb828HvypBM",
        "colab_type": "text"
      },
      "source": [
        "## 2. Dataset Creation"
      ]
    },
    {
      "cell_type": "code",
      "metadata": {
        "id": "KTaub4_FEF92",
        "colab_type": "code",
        "colab": {}
      },
      "source": [
        "import os\n",
        "import shutil\n",
        "import datetime\n",
        "\n",
        "def covid_dataset(IMG_DIR,META_DATA,COVID_DIR):\n",
        "\n",
        "  # Create directory structure\n",
        "  if not os.path.exists(COVID_DIR): \n",
        "    os.makedirs(COVID_DIR)\n",
        "  # Load metadata \n",
        "  df = pd.read_csv(META_DATA)\n",
        "  # Extract COVID images' file names, then images\n",
        "  total = 0\n",
        "  for (i,row) in df.iterrows() : \n",
        "    if row[\"finding\"] == \"COVID-19\"and row[\"view\"]==\"PA\": \n",
        "      file_name = row['filename']\n",
        "      img_path = os.path.join(IMG_DIR,file_name)\n",
        "      covid_path = os.path.join(COVID_DIR,file_name)\n",
        "      shutil.copy2(img_path,covid_path)\n",
        "      total += 1 \n",
        "  # Total number of COVID xrays\n",
        "  return total"
      ],
      "execution_count": 4,
      "outputs": []
    },
    {
      "cell_type": "code",
      "metadata": {
        "id": "GT1gVO6TIjoE",
        "colab_type": "code",
        "colab": {}
      },
      "source": [
        "# Extract same number of normal, pnuemonia xrays equal to COVID xrays \n",
        "def image_sampling(IN_DIR,OUT_DIR,num):\n",
        "\n",
        "  if not os.path.exists(OUT_DIR): \n",
        "    os.makedirs(OUT_DIR)\n",
        "  \n",
        "  img_list = os.listdir(IN_DIR)\n",
        "\n",
        "  total = 0\n",
        "\n",
        "  for i in range(num):\n",
        "    img_name = img_list[i]\n",
        "    in_path = os.path.join(IN_DIR,img_name)\n",
        "    out_path = os.path.join(OUT_DIR,img_name)\n",
        "    shutil.copy2(in_path,out_path)\n",
        "    total += 1 \n",
        "\n",
        "  return total\n"
      ],
      "execution_count": 5,
      "outputs": []
    },
    {
      "cell_type": "code",
      "metadata": {
        "id": "TavrSLluSiiH",
        "colab_type": "code",
        "colab": {}
      },
      "source": [
        "def data_gen(IMG_DIR,META_DATA):\n",
        "\n",
        "  # Date is used as data directory as the images will updated with time\n",
        "  date = str(datetime.datetime.now())[:10]\n",
        "\n",
        "  DATA_DIR = \"data/covid-chestxray-images/\"+date\n",
        "  \n",
        "  # Define directory structures\n",
        "  COVID_DIR = DATA_DIR+\"/COVID\"\n",
        "  NORMAL_DIR = DATA_DIR+'/NORMAL'\n",
        "  PNEUMONIA_DIR = DATA_DIR+'/PNEUMONIA'\n",
        "\n",
        "  # Create dataset and get amount of images\n",
        "  covid_total = covid_dataset(IMG_DIR,META_DATA,COVID_DIR)\n",
        "  normal_total = image_sampling('data/kaggle-chestxray-dataset/NORMAL',NORMAL_DIR,covid_total)\n",
        "  pneumonia_total = image_sampling('data/kaggle-chestxray-dataset/PNEUMONIA',PNEUMONIA_DIR,covid_total)\n",
        "\n",
        "  # Find weather image amounts are same or different\n",
        "  if (covid_total == normal_total) and (covid_total == pneumonia_total):\n",
        "    print(\"Dataset is created with xray images of each COVID, NORMAL and PNUEMONIA :\",covid_total)\n",
        "  else:\n",
        "    print(\"Dataset is created with\")\n",
        "    print(\"Covid images = {covid_total}, Normal images = {normal_total}, Pnemonia images = {pneumonia_total}\")\n",
        "\n",
        "  # Remove original dataset\n",
        "  shutil.rmtree('covid-chestxray-dataset')"
      ],
      "execution_count": 6,
      "outputs": []
    },
    {
      "cell_type": "code",
      "metadata": {
        "id": "cVnnZ_coCxCc",
        "colab_type": "code",
        "colab": {}
      },
      "source": [
        "# Parent folder\n",
        "DIR = 'covid-chestxray-dataset'\n",
        "# Images folder\n",
        "IMG_DIR = DIR+'/images'\n",
        "# Metadata \n",
        "META_DATA = DIR+'/metadata.csv'"
      ],
      "execution_count": 7,
      "outputs": []
    },
    {
      "cell_type": "code",
      "metadata": {
        "id": "SrsRp73-VQV3",
        "colab_type": "code",
        "colab": {
          "base_uri": "https://localhost:8080/",
          "height": 35
        },
        "outputId": "53d57ed7-4018-4f85-87a3-2c97b51e29e3"
      },
      "source": [
        "# Generate dataset and get status\n",
        "data_gen(IMG_DIR,META_DATA)"
      ],
      "execution_count": 8,
      "outputs": [
        {
          "output_type": "stream",
          "text": [
            "Dataset is created with xray images of each COVID, NORMAL and PNUEMONIA : 201\n"
          ],
          "name": "stdout"
        }
      ]
    },
    {
      "cell_type": "markdown",
      "metadata": {
        "id": "f8hQJyXB0KnC",
        "colab_type": "text"
      },
      "source": [
        "**COVID image count changes with time as they update the repo. So the count will also varies with time.**"
      ]
    }
  ]
}