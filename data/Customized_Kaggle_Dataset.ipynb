{
  "nbformat": 4,
  "nbformat_minor": 0,
  "metadata": {
    "colab": {
      "name": "Customized Kaggle Dataset.ipynb",
      "provenance": [],
      "toc_visible": true,
      "authorship_tag": "ABX9TyMD1saWwFeEzs0xSVHayhMq",
      "include_colab_link": true
    },
    "kernelspec": {
      "name": "python3",
      "display_name": "Python 3"
    }
  },
  "cells": [
    {
      "cell_type": "markdown",
      "metadata": {
        "id": "view-in-github",
        "colab_type": "text"
      },
      "source": [
        "<a href=\"https://colab.research.google.com/github/vignagajan/covid-xrays-predictor/blob/master/data/Customized_Kaggle_Dataset.ipynb\" target=\"_parent\"><img src=\"https://colab.research.google.com/assets/colab-badge.svg\" alt=\"Open In Colab\"/></a>"
      ]
    },
    {
      "cell_type": "markdown",
      "metadata": {
        "id": "l2FzIatDjUse",
        "colab_type": "text"
      },
      "source": [
        "## 1. Kaggle Connector"
      ]
    },
    {
      "cell_type": "code",
      "metadata": {
        "id": "3IEgldZMimzY",
        "colab_type": "code",
        "colab": {
          "base_uri": "https://localhost:8080/",
          "height": 35
        },
        "outputId": "08bb95c2-d5d8-4252-fcfd-c5e18e7e2ecc"
      },
      "source": [
        "# update kaggle\n",
        "!pip install -q git+https://github.com/Kaggle/kaggle-api.git --upgrade"
      ],
      "execution_count": 1,
      "outputs": [
        {
          "output_type": "stream",
          "text": [
            "  Building wheel for kaggle (setup.py) ... \u001b[?25l\u001b[?25hdone\n"
          ],
          "name": "stdout"
        }
      ]
    },
    {
      "cell_type": "code",
      "metadata": {
        "id": "Sft3YMLNN3ZE",
        "colab_type": "code",
        "colab": {}
      },
      "source": [
        "# add credentials of your kaggle.json file.\n",
        "import os\n",
        "\n",
        "credentials = {\"username\":\"xxxxxx\",\"key\":\"xxxxx\"}\n",
        "os.environ['KAGGLE_USERNAME']=credentials[\"username\"]\n",
        "os.environ['KAGGLE_KEY']=credentials[\"key\"]"
      ],
      "execution_count": 2,
      "outputs": []
    },
    {
      "cell_type": "markdown",
      "metadata": {
        "id": "iNBGtZoNkEKV",
        "colab_type": "text"
      },
      "source": [
        "## 2. Get dataset"
      ]
    },
    {
      "cell_type": "code",
      "metadata": {
        "id": "psISACXpNXsa",
        "colab_type": "code",
        "colab": {
          "base_uri": "https://localhost:8080/",
          "height": 72
        },
        "outputId": "1d924c23-4be9-4a1d-a305-ecdd0aa54b26"
      },
      "source": [
        "!kaggle datasets download -d paultimothymooney/chest-xray-pneumonia"
      ],
      "execution_count": 3,
      "outputs": [
        {
          "output_type": "stream",
          "text": [
            "Downloading chest-xray-pneumonia.zip to /content\n",
            " 99% 2.27G/2.29G [00:21<00:00, 121MB/s]\n",
            "100% 2.29G/2.29G [00:22<00:00, 112MB/s]\n"
          ],
          "name": "stdout"
        }
      ]
    },
    {
      "cell_type": "code",
      "metadata": {
        "id": "P7JcfzmIXNEe",
        "colab_type": "code",
        "colab": {}
      },
      "source": [
        "# download dataset\n",
        "!unzip -q 'chest-xray-pneumonia.zip' && rm 'chest-xray-pneumonia.zip'"
      ],
      "execution_count": 4,
      "outputs": []
    },
    {
      "cell_type": "code",
      "metadata": {
        "id": "ig9rC2tGjCIA",
        "colab_type": "code",
        "colab": {}
      },
      "source": [
        "# remove duplicated and unwanted folders\n",
        "!rm -rf '/content/chest_xray/chest_xray' '/content/chest_xray/__MACOSX'"
      ],
      "execution_count": 5,
      "outputs": []
    },
    {
      "cell_type": "code",
      "metadata": {
        "id": "9ibCUlyliswi",
        "colab_type": "code",
        "colab": {}
      },
      "source": [
        "# import libraries \n",
        "import glob\n",
        "import re\n",
        "import shutil"
      ],
      "execution_count": 6,
      "outputs": []
    },
    {
      "cell_type": "markdown",
      "metadata": {
        "id": "iJrinToWkILz",
        "colab_type": "text"
      },
      "source": [
        "## 3. Customized dataset"
      ]
    },
    {
      "cell_type": "code",
      "metadata": {
        "id": "NcZ5-iWTflY1",
        "colab_type": "code",
        "colab": {}
      },
      "source": [
        "# extract Normal and Pneumonia images from all train, val, test sets.\n",
        "\n",
        "for path in glob.glob(\"chest_xray/*\"):\n",
        "  for path1 in glob.glob(path+\"/*\"):\n",
        "    temp = re.sub(path,'',path1)\n",
        "    kag_dir = 'data/kaggle-chestxray-dataset'+temp\n",
        "\n",
        "    if not os.path.exists(kag_dir):\n",
        "      os.makedirs(kag_dir)\n",
        "    \n",
        "    for path2 in glob.glob(path1+\"/*\"):\n",
        "      shutil.copy2(path2, kag_dir)\n",
        "\n",
        "shutil.rmtree('chest_xray')"
      ],
      "execution_count": 7,
      "outputs": []
    },
    {
      "cell_type": "code",
      "metadata": {
        "id": "kep23BG8hw0S",
        "colab_type": "code",
        "colab": {
          "base_uri": "https://localhost:8080/",
          "height": 54
        },
        "outputId": "f4cadd28-9503-4923-f21a-c1dbf853a009"
      },
      "source": [
        "# final count of total images\n",
        "normal = len(os.listdir('data/kaggle-chestxray-dataset/NORMAL'))\n",
        "pneumonia = len(os.listdir('data/kaggle-chestxray-dataset/PNEUMONIA'))\n",
        "\n",
        "print(f\"Normal images = {normal}\")\n",
        "print(f\"Pneumonia images = {pneumonia}\")"
      ],
      "execution_count": 8,
      "outputs": [
        {
          "output_type": "stream",
          "text": [
            "Normal images = 1583\n",
            "Pneumonia images = 4273\n"
          ],
          "name": "stdout"
        }
      ]
    }
  ]
}